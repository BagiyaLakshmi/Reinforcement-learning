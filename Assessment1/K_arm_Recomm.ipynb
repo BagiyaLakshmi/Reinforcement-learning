{
 "cells": [
  {
   "cell_type": "code",
   "execution_count": 1,
   "id": "2fca7bfd-1713-41a9-b222-9df8b7923f59",
   "metadata": {},
   "outputs": [],
   "source": [
    "import numpy as np\n",
    "import random\n"
   ]
  },
  {
   "cell_type": "code",
   "execution_count": 2,
   "id": "cb3f2e3f-cfd9-4cc4-9832-0952d129f47d",
   "metadata": {},
   "outputs": [],
   "source": [
    "K = 10 \n",
    "epsilon = 0.1  \n",
    "num_rounds = 1000 "
   ]
  },
  {
   "cell_type": "code",
   "execution_count": null,
   "id": "d4abbb2b-d3d8-409f-9ae7-e34c47074d65",
   "metadata": {},
   "outputs": [],
   "source": [
    "counts = np.zeros(K)  # Number of times each item has been recommended\n",
    "rewards = np.zeros(K) "
   ]
  }
 ],
 "metadata": {
  "kernelspec": {
   "display_name": "Python 3 (ipykernel)",
   "language": "python",
   "name": "python3"
  },
  "language_info": {
   "codemirror_mode": {
    "name": "ipython",
    "version": 3
   },
   "file_extension": ".py",
   "mimetype": "text/x-python",
   "name": "python",
   "nbconvert_exporter": "python",
   "pygments_lexer": "ipython3",
   "version": "3.9.18"
  }
 },
 "nbformat": 4,
 "nbformat_minor": 5
}
